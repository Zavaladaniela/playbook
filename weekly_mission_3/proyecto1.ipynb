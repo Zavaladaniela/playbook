{
 "cells": [
  {
   "cell_type": "markdown",
   "metadata": {},
   "source": [
    "## Link del repo del proyecto 1 semana 3, Back-end LaunchX"
   ]
  },
  {
   "cell_type": "markdown",
   "metadata": {},
   "source": [
    "En este link se almacena una practica en donde se pone en practica la creacion de proyectos de Node JS\n",
    "\n",
    "https://github.com/Zavaladaniela/Proyecto1_Semana3_LaunchX.git\n"
   ]
  }
 ],
 "metadata": {
  "language_info": {
   "name": "python"
  },
  "orig_nbformat": 4
 },
 "nbformat": 4,
 "nbformat_minor": 2
}
