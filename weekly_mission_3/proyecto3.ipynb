{
 "cells": [
  {
   "cell_type": "markdown",
   "metadata": {},
   "source": [
    "## Link del repo del proyecto 3 semana 3, Back-end LaunchX"
   ]
  },
  {
   "cell_type": "markdown",
   "metadata": {},
   "source": [
    "En este link se pusieron en practica agregar modelos\n",
    "\n",
    "https://github.com/Zavaladaniela/Proyecto3_Semana3_LaunchX_Back.git"
   ]
  }
 ],
 "metadata": {
  "language_info": {
   "name": "python"
  },
  "orig_nbformat": 4
 },
 "nbformat": 4,
 "nbformat_minor": 2
}
