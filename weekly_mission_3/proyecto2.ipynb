{
 "cells": [
  {
   "cell_type": "markdown",
   "metadata": {},
   "source": [
    "## Link del repo del proyecto 2 semana 3, Back-end LaunchX"
   ]
  },
  {
   "cell_type": "markdown",
   "metadata": {},
   "source": [
    "En este link se pone en practica los primeros conceptos de TDD\n",
    "\n",
    "https://github.com/Zavaladaniela/Proyecto2_Semana3_LaunchX.git"
   ]
  }
 ],
 "metadata": {
  "language_info": {
   "name": "python"
  },
  "orig_nbformat": 4
 },
 "nbformat": 4,
 "nbformat_minor": 2
}
